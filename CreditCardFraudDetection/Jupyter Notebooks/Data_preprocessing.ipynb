{
 "cells": [
  {
   "cell_type": "markdown",
   "metadata": {},
   "source": [
    "# <center> Data Preprocessing <center>"
   ]
  },
  {
   "cell_type": "markdown",
   "metadata": {},
   "source": [
    "# First analysis and cleaning"
   ]
  },
  {
   "cell_type": "code",
   "execution_count": 1,
   "metadata": {},
   "outputs": [],
   "source": [
    "import pandas as pd\n",
    "import numpy as np\n",
    "import matplotlib.pyplot as plt\n",
    "import seaborn as sns\n",
    "\n",
    "data= pd.read_csv(\"creditcard_train.csv\")\n",
    "#data= pd.read_csv(\"C:\\\\Users\\\\fabio\\\\Desktop\\\\Optimization for machine learning\\\\Project\\\\creditcard_train.csv\")\n",
    "#data= pd.read_csv(\"C:\\\\Users\\\\Marcus\\\\Desktop\\\\optimization\\\\creditcard_train(1).csv\")"
   ]
  },
  {
   "cell_type": "markdown",
   "metadata": {},
   "source": [
    "check veloce se ci sono valori Nan o Null\n"
   ]
  },
  {
   "cell_type": "code",
   "execution_count": 2,
   "metadata": {},
   "outputs": [
    {
     "name": "stdout",
     "output_type": "stream",
     "text": [
      "Ok, no null\n"
     ]
    },
    {
     "data": {
      "text/html": [
       "<div>\n",
       "<style scoped>\n",
       "    .dataframe tbody tr th:only-of-type {\n",
       "        vertical-align: middle;\n",
       "    }\n",
       "\n",
       "    .dataframe tbody tr th {\n",
       "        vertical-align: top;\n",
       "    }\n",
       "\n",
       "    .dataframe thead th {\n",
       "        text-align: right;\n",
       "    }\n",
       "</style>\n",
       "<table border=\"1\" class=\"dataframe\">\n",
       "  <thead>\n",
       "    <tr style=\"text-align: right;\">\n",
       "      <th></th>\n",
       "      <th>Time</th>\n",
       "      <th>V1</th>\n",
       "      <th>V2</th>\n",
       "      <th>V3</th>\n",
       "      <th>V4</th>\n",
       "      <th>V5</th>\n",
       "      <th>V6</th>\n",
       "      <th>V7</th>\n",
       "      <th>V8</th>\n",
       "      <th>V9</th>\n",
       "      <th>...</th>\n",
       "      <th>V21</th>\n",
       "      <th>V22</th>\n",
       "      <th>V23</th>\n",
       "      <th>V24</th>\n",
       "      <th>V25</th>\n",
       "      <th>V26</th>\n",
       "      <th>V27</th>\n",
       "      <th>V28</th>\n",
       "      <th>Amount</th>\n",
       "      <th>Class</th>\n",
       "    </tr>\n",
       "  </thead>\n",
       "  <tbody>\n",
       "    <tr>\n",
       "      <th>0</th>\n",
       "      <td>60912</td>\n",
       "      <td>-0.233511</td>\n",
       "      <td>0.984915</td>\n",
       "      <td>-0.611675</td>\n",
       "      <td>-0.075994</td>\n",
       "      <td>2.158329</td>\n",
       "      <td>3.510300</td>\n",
       "      <td>-0.343637</td>\n",
       "      <td>1.329678</td>\n",
       "      <td>-0.826094</td>\n",
       "      <td>...</td>\n",
       "      <td>-0.140486</td>\n",
       "      <td>-0.691467</td>\n",
       "      <td>0.103120</td>\n",
       "      <td>0.949679</td>\n",
       "      <td>-0.302735</td>\n",
       "      <td>-0.598823</td>\n",
       "      <td>-0.030971</td>\n",
       "      <td>-0.015685</td>\n",
       "      <td>5.28</td>\n",
       "      <td>0</td>\n",
       "    </tr>\n",
       "    <tr>\n",
       "      <th>1</th>\n",
       "      <td>40081</td>\n",
       "      <td>-1.311630</td>\n",
       "      <td>0.711942</td>\n",
       "      <td>2.394713</td>\n",
       "      <td>1.633830</td>\n",
       "      <td>-1.075717</td>\n",
       "      <td>0.879474</td>\n",
       "      <td>-1.300819</td>\n",
       "      <td>-2.273884</td>\n",
       "      <td>0.334474</td>\n",
       "      <td>...</td>\n",
       "      <td>-1.128392</td>\n",
       "      <td>1.096584</td>\n",
       "      <td>-0.206914</td>\n",
       "      <td>0.382391</td>\n",
       "      <td>0.354476</td>\n",
       "      <td>0.060012</td>\n",
       "      <td>0.165756</td>\n",
       "      <td>0.091752</td>\n",
       "      <td>67.28</td>\n",
       "      <td>0</td>\n",
       "    </tr>\n",
       "    <tr>\n",
       "      <th>2</th>\n",
       "      <td>172483</td>\n",
       "      <td>-6.665007</td>\n",
       "      <td>5.932474</td>\n",
       "      <td>-3.263947</td>\n",
       "      <td>-1.937417</td>\n",
       "      <td>-0.663620</td>\n",
       "      <td>-1.021324</td>\n",
       "      <td>0.416578</td>\n",
       "      <td>0.721296</td>\n",
       "      <td>4.914028</td>\n",
       "      <td>...</td>\n",
       "      <td>-0.832972</td>\n",
       "      <td>-0.015136</td>\n",
       "      <td>-0.068249</td>\n",
       "      <td>-0.601072</td>\n",
       "      <td>1.038958</td>\n",
       "      <td>0.537823</td>\n",
       "      <td>1.473408</td>\n",
       "      <td>0.244139</td>\n",
       "      <td>4.79</td>\n",
       "      <td>0</td>\n",
       "    </tr>\n",
       "    <tr>\n",
       "      <th>3</th>\n",
       "      <td>148273</td>\n",
       "      <td>0.087023</td>\n",
       "      <td>0.743134</td>\n",
       "      <td>-0.306746</td>\n",
       "      <td>-1.062374</td>\n",
       "      <td>1.219576</td>\n",
       "      <td>0.218063</td>\n",
       "      <td>0.783998</td>\n",
       "      <td>0.133818</td>\n",
       "      <td>-0.167569</td>\n",
       "      <td>...</td>\n",
       "      <td>-0.292027</td>\n",
       "      <td>-0.754572</td>\n",
       "      <td>-0.038569</td>\n",
       "      <td>-0.371665</td>\n",
       "      <td>-0.373884</td>\n",
       "      <td>0.155175</td>\n",
       "      <td>0.234361</td>\n",
       "      <td>0.082252</td>\n",
       "      <td>0.89</td>\n",
       "      <td>0</td>\n",
       "    </tr>\n",
       "    <tr>\n",
       "      <th>4</th>\n",
       "      <td>168490</td>\n",
       "      <td>1.992767</td>\n",
       "      <td>-0.303564</td>\n",
       "      <td>-1.005669</td>\n",
       "      <td>0.334015</td>\n",
       "      <td>-0.111596</td>\n",
       "      <td>-0.529842</td>\n",
       "      <td>-0.107892</td>\n",
       "      <td>-0.203797</td>\n",
       "      <td>1.047071</td>\n",
       "      <td>...</td>\n",
       "      <td>0.001227</td>\n",
       "      <td>0.151379</td>\n",
       "      <td>0.058258</td>\n",
       "      <td>-0.638222</td>\n",
       "      <td>0.017743</td>\n",
       "      <td>-0.322144</td>\n",
       "      <td>0.009814</td>\n",
       "      <td>-0.043051</td>\n",
       "      <td>43.03</td>\n",
       "      <td>0</td>\n",
       "    </tr>\n",
       "  </tbody>\n",
       "</table>\n",
       "<p>5 rows × 31 columns</p>\n",
       "</div>"
      ],
      "text/plain": [
       "     Time        V1        V2        V3        V4        V5        V6  \\\n",
       "0   60912 -0.233511  0.984915 -0.611675 -0.075994  2.158329  3.510300   \n",
       "1   40081 -1.311630  0.711942  2.394713  1.633830 -1.075717  0.879474   \n",
       "2  172483 -6.665007  5.932474 -3.263947 -1.937417 -0.663620 -1.021324   \n",
       "3  148273  0.087023  0.743134 -0.306746 -1.062374  1.219576  0.218063   \n",
       "4  168490  1.992767 -0.303564 -1.005669  0.334015 -0.111596 -0.529842   \n",
       "\n",
       "         V7        V8        V9  ...       V21       V22       V23       V24  \\\n",
       "0 -0.343637  1.329678 -0.826094  ... -0.140486 -0.691467  0.103120  0.949679   \n",
       "1 -1.300819 -2.273884  0.334474  ... -1.128392  1.096584 -0.206914  0.382391   \n",
       "2  0.416578  0.721296  4.914028  ... -0.832972 -0.015136 -0.068249 -0.601072   \n",
       "3  0.783998  0.133818 -0.167569  ... -0.292027 -0.754572 -0.038569 -0.371665   \n",
       "4 -0.107892 -0.203797  1.047071  ...  0.001227  0.151379  0.058258 -0.638222   \n",
       "\n",
       "        V25       V26       V27       V28  Amount  Class  \n",
       "0 -0.302735 -0.598823 -0.030971 -0.015685    5.28      0  \n",
       "1  0.354476  0.060012  0.165756  0.091752   67.28      0  \n",
       "2  1.038958  0.537823  1.473408  0.244139    4.79      0  \n",
       "3 -0.373884  0.155175  0.234361  0.082252    0.89      0  \n",
       "4  0.017743 -0.322144  0.009814 -0.043051   43.03      0  \n",
       "\n",
       "[5 rows x 31 columns]"
      ]
     },
     "execution_count": 2,
     "metadata": {},
     "output_type": "execute_result"
    }
   ],
   "source": [
    "data.isnull().sum().max() == 0 and print(\"Ok, no null\")\n",
    "\n",
    "data.head()"
   ]
  },
  {
   "cell_type": "markdown",
   "metadata": {},
   "source": [
    "ANALYZING CLASSES DISTRIBUTION"
   ]
  },
  {
   "cell_type": "code",
   "execution_count": 3,
   "metadata": {},
   "outputs": [
    {
     "name": "stderr",
     "output_type": "stream",
     "text": [
      "No handles with labels found to put in legend.\n"
     ]
    },
    {
     "name": "stdout",
     "output_type": "stream",
     "text": [
      "Frauds =  0.1705414691645976 %\n",
      "No Frauds =  99.8294585308354 %\n"
     ]
    },
    {
     "data": {
      "text/plain": [
       "<matplotlib.legend.Legend at 0x7fd65951f860>"
      ]
     },
     "execution_count": 3,
     "metadata": {},
     "output_type": "execute_result"
    },
    {
     "data": {
      "image/png": "[encoded data removed]",
      "text/plain": [
       "<Figure size 432x288 with 1 Axes>"
      ]
     },
     "metadata": {
      "needs_background": "light"
     },
     "output_type": "display_data"
    }
   ],
   "source": [
    "count=0\n",
    "for i in data.Class:\n",
    "    if (i==1):\n",
    "        count+=1\n",
    "        \n",
    "frauds=count/len(data.Class)\n",
    "nofrauds=1-frauds\n",
    "print(\"Frauds = \",frauds*100,\"%\\nNo Frauds = \",nofrauds*100,\"%\")\n",
    "indices_frauds=[i for i, j in enumerate(data.Class) if j == 1]\n",
    "indices_nofrauds=[i for i, j in enumerate(data.Class) if j == 0]\n",
    "# sns.countplot('Class', data=data)\n",
    "# plt.title('No Fraud vs Fraud')\n",
    "plt.bar(height=[count,len(data)-count],x=(0,1),width=0.1)\n",
    "plt.title('Fraud vs no Fraud')\n",
    "plt.grid()\n",
    "plt.legend()"
   ]
  },
  {
   "cell_type": "markdown",
   "metadata": {},
   "source": [
    "essendo fortemente sbilanciato, non possiamo usare l'accuracy perchè anche sbagliassimo tutto avremmo comunque una percentuale di successo sopra al 99%\n",
    "\n",
    "ANALIZING NO PRIVATE FEATURES (TIME AND AMOUNT)"
   ]
  },
  {
   "cell_type": "code",
   "execution_count": 4,
   "metadata": {
    "scrolled": true
   },
   "outputs": [
    {
     "data": {
      "text/plain": [
       "Text(0.5, 1.0, 'Distribution of Transaction Time')"
      ]
     },
     "execution_count": 4,
     "metadata": {},
     "output_type": "execute_result"
    },
    {
     "data": {
      "image/png": "[encoded data removed]",
      "text/plain": [
       "<Figure size 1296x288 with 2 Axes>"
      ]
     },
     "metadata": {
      "needs_background": "light"
     },
     "output_type": "display_data"
    }
   ],
   "source": [
    "fig, ax = plt.subplots(1, 2, figsize=(18,4))\n",
    "# sns.distplot(data.Amount,ax=ax[0])\n",
    "sns.kdeplot(data.Amount,ax=ax[0],shade=True)    #estimate density\n",
    "ax[0].set_xlim([min(data.Amount), max(data.Amount)])\n",
    "# ax[0].set_xlim([min(data.Amount), 2000])    #to visualize better\n",
    "ax[0].set_title('Distribution of Transaction Amount')\n",
    "\n",
    "sns.distplot(data.Time,ax=ax[1])\n",
    "ax[1].set_xlim([min(data.Time), max(data.Time)])\n",
    "ax[1].set_title('Distribution of Transaction Time')\n",
    "\n",
    "# Assumendo che il tempo 0 sia notturno, possiamo notare come le transizioni siano principalmente diurne come ci si può facilmente aspettare\n",
    "# N.B. SAREBBE UTILE RIUSCIRE A VEDERE SE C'è CORRELAZIONE TRA LE FRODI E QUESTE CARATTERISTICHE"
   ]
  },
  {
   "cell_type": "markdown",
   "metadata": {},
   "source": [
    "ANALIZING CORRELATIONS ON THE ENTIRE DATAFRAME"
   ]
  },
  {
   "cell_type": "code",
   "execution_count": 5,
   "metadata": {},
   "outputs": [
    {
     "name": "stdout",
     "output_type": "stream",
     "text": [
      "[14, 17, 30]\n"
     ]
    }
   ],
   "source": [
    "pos=(data.corr().Class)>0.3\n",
    "neg=(data.corr().Class)<-0.3\n",
    "corr=np.bitwise_or(pos,neg)\n",
    "print([i for i, j in enumerate(corr) if j == True])"
   ]
  },
  {
   "cell_type": "markdown",
   "metadata": {},
   "source": [
    "grafically we can use heatmap"
   ]
  },
  {
   "cell_type": "code",
   "execution_count": 6,
   "metadata": {},
   "outputs": [
    {
     "data": {
      "text/html": [
       "<div>\n",
       "<style scoped>\n",
       "    .dataframe tbody tr th:only-of-type {\n",
       "        vertical-align: middle;\n",
       "    }\n",
       "\n",
       "    .dataframe tbody tr th {\n",
       "        vertical-align: top;\n",
       "    }\n",
       "\n",
       "    .dataframe thead th {\n",
       "        text-align: right;\n",
       "    }\n",
       "</style>\n",
       "<table border=\"1\" class=\"dataframe\">\n",
       "  <thead>\n",
       "    <tr style=\"text-align: right;\">\n",
       "      <th></th>\n",
       "      <th>Time</th>\n",
       "      <th>V2</th>\n",
       "      <th>V4</th>\n",
       "      <th>V10</th>\n",
       "      <th>V11</th>\n",
       "      <th>V12</th>\n",
       "      <th>V14</th>\n",
       "      <th>V17</th>\n",
       "      <th>Amount</th>\n",
       "      <th>Class</th>\n",
       "    </tr>\n",
       "  </thead>\n",
       "  <tbody>\n",
       "    <tr>\n",
       "      <th>0</th>\n",
       "      <td>60912</td>\n",
       "      <td>0.984915</td>\n",
       "      <td>-0.075994</td>\n",
       "      <td>-0.281273</td>\n",
       "      <td>-0.359628</td>\n",
       "      <td>-0.050099</td>\n",
       "      <td>0.716348</td>\n",
       "      <td>-0.609476</td>\n",
       "      <td>5.28</td>\n",
       "      <td>0</td>\n",
       "    </tr>\n",
       "    <tr>\n",
       "      <th>1</th>\n",
       "      <td>40081</td>\n",
       "      <td>0.711942</td>\n",
       "      <td>1.633830</td>\n",
       "      <td>-0.975677</td>\n",
       "      <td>-1.568232</td>\n",
       "      <td>-0.537668</td>\n",
       "      <td>0.056247</td>\n",
       "      <td>0.673775</td>\n",
       "      <td>67.28</td>\n",
       "      <td>0</td>\n",
       "    </tr>\n",
       "    <tr>\n",
       "      <th>2</th>\n",
       "      <td>172483</td>\n",
       "      <td>5.932474</td>\n",
       "      <td>-1.937417</td>\n",
       "      <td>7.010639</td>\n",
       "      <td>0.942902</td>\n",
       "      <td>0.248599</td>\n",
       "      <td>-3.246715</td>\n",
       "      <td>0.629593</td>\n",
       "      <td>4.79</td>\n",
       "      <td>0</td>\n",
       "    </tr>\n",
       "    <tr>\n",
       "      <th>3</th>\n",
       "      <td>148273</td>\n",
       "      <td>0.743134</td>\n",
       "      <td>-1.062374</td>\n",
       "      <td>-0.231108</td>\n",
       "      <td>-0.293209</td>\n",
       "      <td>0.170051</td>\n",
       "      <td>0.326547</td>\n",
       "      <td>-1.047422</td>\n",
       "      <td>0.89</td>\n",
       "      <td>0</td>\n",
       "    </tr>\n",
       "    <tr>\n",
       "      <th>4</th>\n",
       "      <td>168490</td>\n",
       "      <td>-0.303564</td>\n",
       "      <td>0.334015</td>\n",
       "      <td>-0.145995</td>\n",
       "      <td>-1.380885</td>\n",
       "      <td>0.516791</td>\n",
       "      <td>-0.028412</td>\n",
       "      <td>-0.717062</td>\n",
       "      <td>43.03</td>\n",
       "      <td>0</td>\n",
       "    </tr>\n",
       "  </tbody>\n",
       "</table>\n",
       "</div>"
      ],
      "text/plain": [
       "     Time        V2        V4       V10       V11       V12       V14  \\\n",
       "0   60912  0.984915 -0.075994 -0.281273 -0.359628 -0.050099  0.716348   \n",
       "1   40081  0.711942  1.633830 -0.975677 -1.568232 -0.537668  0.056247   \n",
       "2  172483  5.932474 -1.937417  7.010639  0.942902  0.248599 -3.246715   \n",
       "3  148273  0.743134 -1.062374 -0.231108 -0.293209  0.170051  0.326547   \n",
       "4  168490 -0.303564  0.334015 -0.145995 -1.380885  0.516791 -0.028412   \n",
       "\n",
       "        V17  Amount  Class  \n",
       "0 -0.609476    5.28      0  \n",
       "1  0.673775   67.28      0  \n",
       "2  0.629593    4.79      0  \n",
       "3 -1.047422    0.89      0  \n",
       "4 -0.717062   43.03      0  "
      ]
     },
     "execution_count": 6,
     "metadata": {},
     "output_type": "execute_result"
    },
    {
     "data": {
      "image/png": "[encoded data removed]",
      "text/plain": [
       "<Figure size 720x864 with 2 Axes>"
      ]
     },
     "metadata": {
      "needs_background": "light"
     },
     "output_type": "display_data"
    }
   ],
   "source": [
    "f= plt.subplots(figsize=(10,12))\n",
    "sns.heatmap(data.corr(), cmap='coolwarm_r') #corr = Compute pairwise correlation of columns, excluding NA/null values.\n",
    "\n",
    "# Guardando le correlazione della classe (ultima colonna) si vede una correlazione negativa con V10,V12,V14,V17 \n",
    "# e una positiva con V2,V4,V11 \n",
    "# per cui tutte le altre features si possono ignorare perchè sembrano non avere un legame con l'essere o meno una frode\n",
    "new_data = data.drop(['V1','V3','V5','V6','V7','V8','V9','V13','V15','V16','V18','V19','V20','V21','V22','V23','V24','V25','V26','V27','V28'],axis=1)\n",
    "new_data.head()"
   ]
  },
  {
   "cell_type": "markdown",
   "metadata": {},
   "source": [
    "# Balancing dataset"
   ]
  },
  {
   "cell_type": "markdown",
   "metadata": {},
   "source": [
    "Using centroid technique to undersample the 0 class."
   ]
  },
  {
   "cell_type": "code",
   "execution_count": 7,
   "metadata": {},
   "outputs": [
    {
     "name": "stderr",
     "output_type": "stream",
     "text": [
      "Using TensorFlow backend.\n"
     ]
    },
    {
     "ename": "KeyboardInterrupt",
     "evalue": "",
     "output_type": "error",
     "traceback": [
      "\u001b[0;31m---------------------------------------------------------------------------\u001b[0m",
      "\u001b[0;31mKeyboardInterrupt\u001b[0m                         Traceback (most recent call last)",
      "\u001b[0;32m<ipython-input-7-dbf6cc7b524a>\u001b[0m in \u001b[0;36m<module>\u001b[0;34m\u001b[0m\n\u001b[1;32m      5\u001b[0m \u001b[0;34m\u001b[0m\u001b[0m\n\u001b[1;32m      6\u001b[0m \u001b[0mcc\u001b[0m \u001b[0;34m=\u001b[0m \u001b[0mClusterCentroids\u001b[0m\u001b[0;34m(\u001b[0m\u001b[0msampling_strategy\u001b[0m\u001b[0;34m=\u001b[0m\u001b[0;36m0.65\u001b[0m\u001b[0;34m,\u001b[0m \u001b[0mrandom_state\u001b[0m\u001b[0;34m=\u001b[0m\u001b[0;36m0\u001b[0m\u001b[0;34m)\u001b[0m\u001b[0;34m\u001b[0m\u001b[0;34m\u001b[0m\u001b[0m\n\u001b[0;32m----> 7\u001b[0;31m \u001b[0mX_new\u001b[0m\u001b[0;34m,\u001b[0m \u001b[0my_new\u001b[0m \u001b[0;34m=\u001b[0m \u001b[0mcc\u001b[0m\u001b[0;34m.\u001b[0m\u001b[0mfit_resample\u001b[0m\u001b[0;34m(\u001b[0m\u001b[0mx\u001b[0m\u001b[0;34m,\u001b[0m \u001b[0my\u001b[0m\u001b[0;34m)\u001b[0m\u001b[0;34m\u001b[0m\u001b[0;34m\u001b[0m\u001b[0m\n\u001b[0m\u001b[1;32m      8\u001b[0m \u001b[0mX_train\u001b[0m\u001b[0;34m,\u001b[0m\u001b[0mX_test\u001b[0m\u001b[0;34m,\u001b[0m\u001b[0my_train\u001b[0m\u001b[0;34m,\u001b[0m\u001b[0my_test\u001b[0m\u001b[0;34m=\u001b[0m\u001b[0mtrain_test_split\u001b[0m\u001b[0;34m(\u001b[0m\u001b[0mX_new\u001b[0m\u001b[0;34m,\u001b[0m\u001b[0my_new\u001b[0m\u001b[0;34m,\u001b[0m\u001b[0mtest_size\u001b[0m\u001b[0;34m=\u001b[0m\u001b[0;36m0.2\u001b[0m\u001b[0;34m,\u001b[0m\u001b[0mrandom_state\u001b[0m\u001b[0;34m=\u001b[0m\u001b[0;36m0\u001b[0m\u001b[0;34m,\u001b[0m\u001b[0mstratify\u001b[0m\u001b[0;34m=\u001b[0m\u001b[0my_new\u001b[0m\u001b[0;34m)\u001b[0m\u001b[0;34m\u001b[0m\u001b[0;34m\u001b[0m\u001b[0m\n",
      "\u001b[0;32m~/anaconda3/lib/python3.7/site-packages/imblearn/base.py\u001b[0m in \u001b[0;36mfit_resample\u001b[0;34m(self, X, y)\u001b[0m\n\u001b[1;32m     79\u001b[0m         )\n\u001b[1;32m     80\u001b[0m \u001b[0;34m\u001b[0m\u001b[0m\n\u001b[0;32m---> 81\u001b[0;31m         \u001b[0moutput\u001b[0m \u001b[0;34m=\u001b[0m \u001b[0mself\u001b[0m\u001b[0;34m.\u001b[0m\u001b[0m_fit_resample\u001b[0m\u001b[0;34m(\u001b[0m\u001b[0mX\u001b[0m\u001b[0;34m,\u001b[0m \u001b[0my\u001b[0m\u001b[0;34m)\u001b[0m\u001b[0;34m\u001b[0m\u001b[0;34m\u001b[0m\u001b[0m\n\u001b[0m\u001b[1;32m     82\u001b[0m \u001b[0;34m\u001b[0m\u001b[0m\n\u001b[1;32m     83\u001b[0m         \u001b[0;32mif\u001b[0m \u001b[0mself\u001b[0m\u001b[0;34m.\u001b[0m\u001b[0m_X_columns\u001b[0m \u001b[0;32mis\u001b[0m \u001b[0;32mnot\u001b[0m \u001b[0;32mNone\u001b[0m \u001b[0;32mor\u001b[0m \u001b[0mself\u001b[0m\u001b[0;34m.\u001b[0m\u001b[0m_y_name\u001b[0m \u001b[0;32mis\u001b[0m \u001b[0;32mnot\u001b[0m \u001b[0;32mNone\u001b[0m\u001b[0;34m:\u001b[0m\u001b[0;34m\u001b[0m\u001b[0;34m\u001b[0m\u001b[0m\n",
      "\u001b[0;32m~/anaconda3/lib/python3.7/site-packages/imblearn/under_sampling/_prototype_generation/_cluster_centroids.py\u001b[0m in \u001b[0;36m_fit_resample\u001b[0;34m(self, X, y)\u001b[0m\n\u001b[1;32m    159\u001b[0m                 \u001b[0mn_samples\u001b[0m \u001b[0;34m=\u001b[0m \u001b[0mself\u001b[0m\u001b[0;34m.\u001b[0m\u001b[0msampling_strategy_\u001b[0m\u001b[0;34m[\u001b[0m\u001b[0mtarget_class\u001b[0m\u001b[0;34m]\u001b[0m\u001b[0;34m\u001b[0m\u001b[0;34m\u001b[0m\u001b[0m\n\u001b[1;32m    160\u001b[0m                 \u001b[0mself\u001b[0m\u001b[0;34m.\u001b[0m\u001b[0mestimator_\u001b[0m\u001b[0;34m.\u001b[0m\u001b[0mset_params\u001b[0m\u001b[0;34m(\u001b[0m\u001b[0;34m**\u001b[0m\u001b[0;34m{\u001b[0m\u001b[0;34m\"n_clusters\"\u001b[0m\u001b[0;34m:\u001b[0m \u001b[0mn_samples\u001b[0m\u001b[0;34m}\u001b[0m\u001b[0;34m)\u001b[0m\u001b[0;34m\u001b[0m\u001b[0;34m\u001b[0m\u001b[0m\n\u001b[0;32m--> 161\u001b[0;31m                 \u001b[0mself\u001b[0m\u001b[0;34m.\u001b[0m\u001b[0mestimator_\u001b[0m\u001b[0;34m.\u001b[0m\u001b[0mfit\u001b[0m\u001b[0;34m(\u001b[0m\u001b[0mX\u001b[0m\u001b[0;34m[\u001b[0m\u001b[0my\u001b[0m \u001b[0;34m==\u001b[0m \u001b[0mtarget_class\u001b[0m\u001b[0;34m]\u001b[0m\u001b[0;34m)\u001b[0m\u001b[0;34m\u001b[0m\u001b[0;34m\u001b[0m\u001b[0m\n\u001b[0m\u001b[1;32m    162\u001b[0m                 X_new, y_new = self._generate_sample(\n\u001b[1;32m    163\u001b[0m                     \u001b[0mX\u001b[0m\u001b[0;34m,\u001b[0m \u001b[0my\u001b[0m\u001b[0;34m,\u001b[0m \u001b[0mself\u001b[0m\u001b[0;34m.\u001b[0m\u001b[0mestimator_\u001b[0m\u001b[0;34m.\u001b[0m\u001b[0mcluster_centers_\u001b[0m\u001b[0;34m,\u001b[0m \u001b[0mtarget_class\u001b[0m\u001b[0;34m\u001b[0m\u001b[0;34m\u001b[0m\u001b[0m\n",
      "\u001b[0;32m~/anaconda3/lib/python3.7/site-packages/sklearn/cluster/_kmeans.py\u001b[0m in \u001b[0;36mfit\u001b[0;34m(self, X, y, sample_weight)\u001b[0m\n\u001b[1;32m    935\u001b[0m                     \u001b[0mmax_iter\u001b[0m\u001b[0;34m=\u001b[0m\u001b[0mself\u001b[0m\u001b[0;34m.\u001b[0m\u001b[0mmax_iter\u001b[0m\u001b[0;34m,\u001b[0m \u001b[0minit\u001b[0m\u001b[0;34m=\u001b[0m\u001b[0minit\u001b[0m\u001b[0;34m,\u001b[0m \u001b[0mverbose\u001b[0m\u001b[0;34m=\u001b[0m\u001b[0mself\u001b[0m\u001b[0;34m.\u001b[0m\u001b[0mverbose\u001b[0m\u001b[0;34m,\u001b[0m\u001b[0;34m\u001b[0m\u001b[0;34m\u001b[0m\u001b[0m\n\u001b[1;32m    936\u001b[0m                     \u001b[0mprecompute_distances\u001b[0m\u001b[0;34m=\u001b[0m\u001b[0mprecompute_distances\u001b[0m\u001b[0;34m,\u001b[0m \u001b[0mtol\u001b[0m\u001b[0;34m=\u001b[0m\u001b[0mtol\u001b[0m\u001b[0;34m,\u001b[0m\u001b[0;34m\u001b[0m\u001b[0;34m\u001b[0m\u001b[0m\n\u001b[0;32m--> 937\u001b[0;31m                     x_squared_norms=x_squared_norms, random_state=seed)\n\u001b[0m\u001b[1;32m    938\u001b[0m                 \u001b[0;31m# determine if these results are the best so far\u001b[0m\u001b[0;34m\u001b[0m\u001b[0;34m\u001b[0m\u001b[0;34m\u001b[0m\u001b[0m\n\u001b[1;32m    939\u001b[0m                 \u001b[0;32mif\u001b[0m \u001b[0mbest_inertia\u001b[0m \u001b[0;32mis\u001b[0m \u001b[0;32mNone\u001b[0m \u001b[0;32mor\u001b[0m \u001b[0minertia\u001b[0m \u001b[0;34m<\u001b[0m \u001b[0mbest_inertia\u001b[0m\u001b[0;34m:\u001b[0m\u001b[0;34m\u001b[0m\u001b[0;34m\u001b[0m\u001b[0m\n",
      "\u001b[0;32m~/anaconda3/lib/python3.7/site-packages/sklearn/cluster/_kmeans.py\u001b[0m in \u001b[0;36m_kmeans_single_elkan\u001b[0;34m(X, sample_weight, n_clusters, max_iter, init, verbose, x_squared_norms, random_state, tol, precompute_distances)\u001b[0m\n\u001b[1;32m    320\u001b[0m     centers, labels, n_iter = k_means_elkan(X, checked_sample_weight,\n\u001b[1;32m    321\u001b[0m                                             \u001b[0mn_clusters\u001b[0m\u001b[0;34m,\u001b[0m \u001b[0mcenters\u001b[0m\u001b[0;34m,\u001b[0m \u001b[0mtol\u001b[0m\u001b[0;34m=\u001b[0m\u001b[0mtol\u001b[0m\u001b[0;34m,\u001b[0m\u001b[0;34m\u001b[0m\u001b[0;34m\u001b[0m\u001b[0m\n\u001b[0;32m--> 322\u001b[0;31m                                             max_iter=max_iter, verbose=verbose)\n\u001b[0m\u001b[1;32m    323\u001b[0m     \u001b[0;32mif\u001b[0m \u001b[0msample_weight\u001b[0m \u001b[0;32mis\u001b[0m \u001b[0;32mNone\u001b[0m\u001b[0;34m:\u001b[0m\u001b[0;34m\u001b[0m\u001b[0;34m\u001b[0m\u001b[0m\n\u001b[1;32m    324\u001b[0m         \u001b[0minertia\u001b[0m \u001b[0;34m=\u001b[0m \u001b[0mnp\u001b[0m\u001b[0;34m.\u001b[0m\u001b[0msum\u001b[0m\u001b[0;34m(\u001b[0m\u001b[0;34m(\u001b[0m\u001b[0mX\u001b[0m \u001b[0;34m-\u001b[0m \u001b[0mcenters\u001b[0m\u001b[0;34m[\u001b[0m\u001b[0mlabels\u001b[0m\u001b[0;34m]\u001b[0m\u001b[0;34m)\u001b[0m \u001b[0;34m**\u001b[0m \u001b[0;36m2\u001b[0m\u001b[0;34m,\u001b[0m \u001b[0mdtype\u001b[0m\u001b[0;34m=\u001b[0m\u001b[0mnp\u001b[0m\u001b[0;34m.\u001b[0m\u001b[0mfloat64\u001b[0m\u001b[0;34m)\u001b[0m\u001b[0;34m\u001b[0m\u001b[0;34m\u001b[0m\u001b[0m\n",
      "\u001b[0;32msklearn/cluster/_k_means_elkan.pyx\u001b[0m in \u001b[0;36msklearn.cluster._k_means_elkan.k_means_elkan\u001b[0;34m()\u001b[0m\n",
      "\u001b[0;32m~/anaconda3/lib/python3.7/site-packages/sklearn/metrics/pairwise.py\u001b[0m in \u001b[0;36meuclidean_distances\u001b[0;34m(X, Y, Y_norm_squared, squared, X_norm_squared)\u001b[0m\n\u001b[1;32m    193\u001b[0m \u001b[0;34m\u001b[0m\u001b[0m\n\u001b[1;32m    194\u001b[0m \u001b[0;31m# Pairwise distances\u001b[0m\u001b[0;34m\u001b[0m\u001b[0;34m\u001b[0m\u001b[0;34m\u001b[0m\u001b[0m\n\u001b[0;32m--> 195\u001b[0;31m def euclidean_distances(X, Y=None, Y_norm_squared=None, squared=False,\n\u001b[0m\u001b[1;32m    196\u001b[0m                         X_norm_squared=None):\n\u001b[1;32m    197\u001b[0m     \"\"\"\n",
      "\u001b[0;31mKeyboardInterrupt\u001b[0m: "
     ]
    }
   ],
   "source": [
    "from imblearn.under_sampling import ClusterCentroids\n",
    "from sklearn.model_selection import train_test_split\n",
    "x=data.drop(['Class'],axis=1)\n",
    "y=data.Class\n",
    "\n",
    "cc = ClusterCentroids(sampling_strategy=0.65, random_state=0)\n",
    "X_new, y_new = cc.fit_resample(x, y)\n",
    "X_train,X_test,y_train,y_test=train_test_split(X_new,y_new,test_size=0.2,random_state=0,stratify=y_new)"
   ]
  },
  {
   "cell_type": "markdown",
   "metadata": {},
   "source": [
    "CORRELATION ON DATAFRAME USING CENTROID TECHNIQUE"
   ]
  },
  {
   "cell_type": "code",
   "execution_count": null,
   "metadata": {},
   "outputs": [],
   "source": [
    "# NEL CASO VOLESSIMO USARE UN DATAFRAME BILANCIATO PER LA CLASSE\n",
    "#data_shuffle = data.sample(frac=1)\n",
    "#fraud_frame = data.loc[data.Class == 1]\n",
    "#nonfraud_frame = data.loc[data.Class == 0][:count]\n",
    "balanced_data = pd.concat([X_new, y_new], axis = 1)\n",
    "\n",
    "pos=(balanced_data.corr().Class)>0.7\n",
    "neg=(balanced_data.corr().Class)<-0.7\n",
    "corr=np.bitwise_or(pos,neg)\n",
    "print(\"Features we can assume are highly correlated = \",[i for i, j in enumerate(corr) if j == True])\n",
    "\n",
    "# CORRELATION ON THIS BALANCED DATAFRAME\n",
    "f= plt.subplots(figsize=(10,12))\n",
    "sns.heatmap(balanced_data.corr(), cmap='coolwarm_r', annot_kws={'size':20})\n",
    "# balanced_data.corr()['Class'].abs().sort_values().keys()\n",
    "# si vede la stessa cosa di prima però in maniera molto più evidente e in più si accenna una leggera correlazione tra classe e time/amount ma credo sia trascurabile"
   ]
  },
  {
   "cell_type": "markdown",
   "metadata": {},
   "source": [
    "# PCA Analysis"
   ]
  },
  {
   "cell_type": "markdown",
   "metadata": {},
   "source": [
    "Trying to do PCA-based dimensionality reduction for visualization"
   ]
  },
  {
   "cell_type": "code",
   "execution_count": null,
   "metadata": {},
   "outputs": [],
   "source": [
    "from sklearn.preprocessing import StandardScaler\n",
    "from sklearn.decomposition import PCA\n",
    "features=list(data.columns.values[0:-1])\n",
    "label=list(data.columns.values[30:31])\n",
    "X = data.loc[:, features].values\n",
    "y = data.loc[:, label].values\n",
    "X = StandardScaler().fit_transform(X)\n",
    "pca = PCA(n_components=2)\n",
    "principalComponents = pca.fit_transform(X)\n",
    "principalDf = pd.DataFrame(data = principalComponents, columns = ['principal component 1', 'principal component 2'])\n",
    "finalDf = pd.concat([principalDf, data[label]], axis = 1)\n",
    "finalDf.head()"
   ]
  },
  {
   "cell_type": "code",
   "execution_count": null,
   "metadata": {
    "scrolled": true
   },
   "outputs": [],
   "source": [
    "fig = plt.figure(figsize = (8,8))\n",
    "ax = fig.add_subplot(1,1,1) \n",
    "ax.set_xlabel('Principal Component 1', fontsize = 15)\n",
    "ax.set_ylabel('Principal Component 2', fontsize = 15)\n",
    "ax.set_title('2 component PCA', fontsize = 20)\n",
    "classes = [0, 1]\n",
    "colors = ['r', 'b']\n",
    "for clas, color in zip(classes,colors):\n",
    "    indicesToKeep = finalDf['Class'] == clas\n",
    "    ax.scatter(finalDf.loc[indicesToKeep, 'principal component 1']\n",
    "               , finalDf.loc[indicesToKeep, 'principal component 2']\n",
    "               , c = color\n",
    "               , s = 50)\n",
    "ax.legend(classes)\n",
    "ax.grid()\n",
    "print(pca.explained_variance_ratio_)"
   ]
  },
  {
   "cell_type": "markdown",
   "metadata": {},
   "source": [
    "PCA does not show anything relevant. I try to eliminate \"Time\" feature. Reduced variability of positives is due to CLT"
   ]
  },
  {
   "cell_type": "code",
   "execution_count": null,
   "metadata": {},
   "outputs": [],
   "source": [
    "features=list(data.columns.values[1:-1])\n",
    "label=list(data.columns.values[30:31])\n",
    "X = data.loc[:, features].values\n",
    "y = data.loc[:, label].values\n",
    "X = StandardScaler().fit_transform(X)\n",
    "pca = PCA(n_components=2)\n",
    "principalComponents = pca.fit_transform(X)\n",
    "principalDf = pd.DataFrame(data = principalComponents, columns = ['principal component 1', 'principal component 2'])\n",
    "finalDf = pd.concat([principalDf, data[label]], axis = 1)\n",
    "finalDf.head()"
   ]
  },
  {
   "cell_type": "code",
   "execution_count": null,
   "metadata": {},
   "outputs": [],
   "source": [
    "fig = plt.figure(figsize = (8,8))\n",
    "ax = fig.add_subplot(1,1,1) \n",
    "ax.set_xlabel('Principal Component 1', fontsize = 15)\n",
    "ax.set_ylabel('Principal Component 2', fontsize = 15)\n",
    "ax.set_title('2 component PCA', fontsize = 20)\n",
    "classes = [0, 1]\n",
    "colors = ['r', 'b']\n",
    "for clas, color in zip(classes,colors):\n",
    "    indicesToKeep = finalDf['Class'] == clas\n",
    "    ax.scatter(finalDf.loc[indicesToKeep, 'principal component 1']\n",
    "               , finalDf.loc[indicesToKeep, 'principal component 2']\n",
    "               , c = color\n",
    "               , s = 50)\n",
    "ax.legend(classes)\n",
    "ax.grid()\n",
    "print(pca.explained_variance_ratio_)"
   ]
  },
  {
   "cell_type": "markdown",
   "metadata": {},
   "source": [
    "Excluding outliers clusters appear however superimposed to each other. Trying to eliminate \"Amount\" too."
   ]
  },
  {
   "cell_type": "code",
   "execution_count": null,
   "metadata": {},
   "outputs": [],
   "source": [
    "features=list(data.columns.values[1:-2])\n",
    "label=list(data.columns.values[30:31])\n",
    "X = data.loc[:, features].values\n",
    "y = data.loc[:, label].values\n",
    "X = StandardScaler().fit_transform(X)\n",
    "pca = PCA(n_components=2)\n",
    "principalComponents = pca.fit_transform(X)\n",
    "principalDf = pd.DataFrame(data = principalComponents, columns = ['principal component 1', 'principal component 2'])\n",
    "finalDf = pd.concat([principalDf, data[label]], axis = 1)\n",
    "finalDf.head()"
   ]
  },
  {
   "cell_type": "code",
   "execution_count": null,
   "metadata": {},
   "outputs": [],
   "source": [
    "fig = plt.figure(figsize = (8,8))\n",
    "ax = fig.add_subplot(1,1,1) \n",
    "ax.set_xlabel('Principal Component 1', fontsize = 15)\n",
    "ax.set_ylabel('Principal Component 2', fontsize = 15)\n",
    "ax.set_title('2 component PCA', fontsize = 20)\n",
    "classes = [0,1]\n",
    "colors = ['r', 'b']\n",
    "for clas, color in zip(classes,colors):\n",
    "    indicesToKeep = finalDf['Class'] == clas\n",
    "    ax.scatter(finalDf.loc[indicesToKeep, 'principal component 1']\n",
    "               , finalDf.loc[indicesToKeep, 'principal component 2']\n",
    "               , c = color\n",
    "               , s = 50)\n",
    "ax.legend(classes)\n",
    "ax.grid()\n",
    "print(pca.explained_variance_ratio_)"
   ]
  },
  {
   "cell_type": "markdown",
   "metadata": {},
   "source": [
    "Not successful..\n",
    "\n",
    "Trying to consider features with strong differences in means betweeen 0 and 1"
   ]
  },
  {
   "cell_type": "code",
   "execution_count": null,
   "metadata": {},
   "outputs": [],
   "source": [
    "ones = data[data['Class'] == 1]\n",
    "ones.head()\n",
    "ones.hist(figsize = (25,25))\n",
    "new_features = list(ones.describe().loc['mean',:].abs().sort_values().keys()[-9:-2])\n",
    "print(new_features)"
   ]
  },
  {
   "cell_type": "code",
   "execution_count": null,
   "metadata": {},
   "outputs": [],
   "source": [
    "zeros = data[data['Class'] == 0]\n",
    "zeros.head()\n",
    "zeros.hist(figsize = (25,25))\n",
    "plt.show()"
   ]
  },
  {
   "cell_type": "code",
   "execution_count": null,
   "metadata": {},
   "outputs": [],
   "source": [
    "features = new_features\n",
    "label=list(data.columns.values[30:31])\n",
    "X = data.loc[:, features].values\n",
    "y = data.loc[:, label].values\n",
    "X = StandardScaler().fit_transform(X)\n",
    "pca = PCA(n_components=2)\n",
    "principalComponents = pca.fit_transform(X)\n",
    "principalDf = pd.DataFrame(data = principalComponents, columns = ['principal component 1', 'principal component 2'])\n",
    "finalDf = pd.concat([principalDf, data[label]], axis = 1)\n",
    "finalDf.head()"
   ]
  },
  {
   "cell_type": "code",
   "execution_count": null,
   "metadata": {},
   "outputs": [],
   "source": [
    "fig = plt.figure(figsize = (8,8))\n",
    "ax = fig.add_subplot(1,1,1) \n",
    "ax.set_xlabel('Principal Component 1', fontsize = 15)\n",
    "ax.set_ylabel('Principal Component 2', fontsize = 15)\n",
    "ax.set_title('2 component PCA', fontsize = 20)\n",
    "classes = [0,1]\n",
    "colors = ['r', 'b']\n",
    "for clas, color in zip(classes,colors):\n",
    "    indicesToKeep = finalDf['Class'] == clas\n",
    "    ax.scatter(finalDf.loc[indicesToKeep, 'principal component 1']\n",
    "               , finalDf.loc[indicesToKeep, 'principal component 2']\n",
    "               , c = color\n",
    "               , s = 50)\n",
    "ax.legend(classes)\n",
    "ax.grid()\n",
    "print(pca.explained_variance_ratio_)"
   ]
  },
  {
   "cell_type": "markdown",
   "metadata": {},
   "source": [
    "Explained variance increases(obviously)but clusters start to slowly separate\n",
    "\n",
    "TO DO: eliminare ulteriori features(con cautela)sperando in un ulteriore miglioramento della situazione. Farlo con il dataset bilanciato."
   ]
  },
  {
   "cell_type": "code",
   "execution_count": null,
   "metadata": {},
   "outputs": [],
   "source": [
    "features = list(balanced_data.columns.values[0:-1])\n",
    "label=list(balanced_data.columns.values[30:31])\n",
    "X = balanced_data.loc[:, features].values\n",
    "y = balanced_data.loc[:, label].values\n",
    "X = StandardScaler().fit_transform(X)\n",
    "pca = PCA(n_components=2)\n",
    "principalComponents = pca.fit_transform(X)\n",
    "principalDf = pd.DataFrame(data = principalComponents, columns = ['principal component 1', 'principal component 2'])\n",
    "finalDf = pd.concat([principalDf, data[label]], axis = 1)\n",
    "finalDf.head()"
   ]
  },
  {
   "cell_type": "code",
   "execution_count": null,
   "metadata": {},
   "outputs": [],
   "source": [
    "fig = plt.figure(figsize = (8,8))\n",
    "ax = fig.add_subplot(1,1,1) \n",
    "ax.set_xlabel('Principal Component 1', fontsize = 15)\n",
    "ax.set_ylabel('Principal Component 2', fontsize = 15)\n",
    "ax.set_title('2 component PCA', fontsize = 20)\n",
    "classes = [0,1]\n",
    "colors = ['r', 'b']\n",
    "for clas, color in zip(classes,colors):\n",
    "    indicesToKeep = finalDf['Class'] == clas\n",
    "    ax.scatter(finalDf.loc[indicesToKeep, 'principal component 1']\n",
    "               , finalDf.loc[indicesToKeep, 'principal component 2']\n",
    "               , c = color\n",
    "               , s = 50)\n",
    "ax.legend(classes)\n",
    "ax.grid()\n",
    "print(pca.explained_variance_ratio_)"
   ]
  },
  {
   "cell_type": "markdown",
   "metadata": {},
   "source": [
    "PCA on reduced dataset not working...NaN values on class 1. WHY?\n",
    "\n",
    "Keep working on full dataset removing features. Use the ones that show high correlations and the most significative according to the previous criterion"
   ]
  },
  {
   "cell_type": "code",
   "execution_count": null,
   "metadata": {},
   "outputs": [],
   "source": [
    "new_features = ['V14', 'V3','V17', 'V12','V10','V11','V4','V1']\n",
    "#new_features = ['V14','V3','V17','V12']\n",
    "label=list(data.columns.values[30:31])\n",
    "X = data.loc[:, new_features].values\n",
    "y = data.loc[:, label].values\n",
    "X = StandardScaler().fit_transform(X)\n",
    "pca = PCA(n_components=2)\n",
    "principalComponents = pca.fit_transform(X)\n",
    "principalDf = pd.DataFrame(data = principalComponents, columns = ['principal component 1', 'principal component 2'])\n",
    "finalDf = pd.concat([principalDf, data[label]], axis = 1)\n",
    "finalDf.head()"
   ]
  },
  {
   "cell_type": "code",
   "execution_count": null,
   "metadata": {},
   "outputs": [],
   "source": [
    "fig = plt.figure(figsize = (8,8))\n",
    "ax = fig.add_subplot(1,1,1) \n",
    "ax.set_xlabel('Principal Component 1', fontsize = 15)\n",
    "ax.set_ylabel('Principal Component 2', fontsize = 15)\n",
    "ax.set_title('2 component PCA', fontsize = 20)\n",
    "classes = [0,1]\n",
    "colors = ['r', 'b']\n",
    "for clas, color in zip(classes,colors):\n",
    "    indicesToKeep = finalDf['Class'] == clas\n",
    "    ax.scatter(finalDf.loc[indicesToKeep, 'principal component 1']\n",
    "               , finalDf.loc[indicesToKeep, 'principal component 2']\n",
    "               , c = color\n",
    "               , s = 50)\n",
    "ax.legend(classes)\n",
    "ax.grid()\n",
    "print(pca.explained_variance_ratio_)"
   ]
  },
  {
   "cell_type": "markdown",
   "metadata": {},
   "source": [
    "This seems to be the best compromise"
   ]
  }
 ],
 "metadata": {
  "kernelspec": {
   "display_name": "Python 3",
   "language": "python",
   "name": "python3"
  },
  "language_info": {
   "codemirror_mode": {
    "name": "ipython",
    "version": 3
   },
   "file_extension": ".py",
   "mimetype": "text/x-python",
   "name": "python",
   "nbconvert_exporter": "python",
   "pygments_lexer": "ipython3",
   "version": "3.7.3"
  }
 },
 "nbformat": 4,
 "nbformat_minor": 2
}
