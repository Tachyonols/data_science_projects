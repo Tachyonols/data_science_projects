{
 "cells": [
  {
   "cell_type": "code",
   "execution_count": 1,
   "metadata": {
    "collapsed": true
   },
   "outputs": [],
   "source": [
    "import numpy as np\n",
    "import matplotlib.pyplot as plt\n",
    "from scipy import optimize"
   ]
  },
  {
   "cell_type": "code",
   "execution_count": 2,
   "metadata": {},
   "outputs": [],
   "source": [
    "data=[]\n",
    "with open(\"files/data.txt\",\"r\") as datafile:\n",
    "    for line in datafile:\n",
    "        data = np.append(data, float(line))"
   ]
  },
  {
   "cell_type": "code",
   "execution_count": 13,
   "metadata": {
    "collapsed": true
   },
   "outputs": [],
   "source": [
    "def Gaussian(x,Norm,m,s):\n",
    "    return Norm /np.sqrt(2*np.pi*s**2) * np.exp( -(x-m)**2 /(2* s**2))\n",
    "\n",
    "def DoubleGaussian(x,Norm1,m1,s1,Norm2,m2,s2):\n",
    "    return Gaussian(x,Norm1,m1,s1)+Gaussian(x,Norm2,m2,s2)\n",
    "\n",
    "\n",
    "#popt, pcov = optimize.curve_fit(Gaussian,bins,binned_data,sigma=binned_data_unc)"
   ]
  },
  {
   "cell_type": "code",
   "execution_count": 20,
   "metadata": {},
   "outputs": [
    {
     "name": "stdout",
     "output_type": "stream",
     "text": [
      "best fitted parameters (Norm1,mu1,sigma1,Norm2,mu2,sigma2) :  [  3.86710464e+04   3.69618819e+00   1.79677768e+00   1.15407341e+04\n",
      "   7.09039629e+00   1.15164731e+00] \n",
      "\n",
      "covariance matrix : \n",
      "[[  2.02658836e+07   1.05878342e+03   7.35354889e+02  -1.75094442e+07\n",
      "    1.24855640e+03  -5.95537481e+02]\n",
      " [  1.05878342e+03   6.53985457e-02   4.11653118e-02  -1.00310953e+03\n",
      "    7.09829442e-02  -3.35328454e-02]\n",
      " [  7.35354889e+02   4.11653118e-02   3.32551289e-02  -6.82593852e+02\n",
      "    4.51829592e-02  -2.08683308e-02]\n",
      " [ -1.75094442e+07  -1.00310953e+03  -6.82593852e+02   1.69866709e+07\n",
      "   -1.18316415e+03   5.67064165e+02]\n",
      " [  1.24855640e+03   7.09829442e-02   4.51829592e-02  -1.18316415e+03\n",
      "    9.62000992e-02  -4.53865011e-02]\n",
      " [ -5.95537481e+02  -3.35328454e-02  -2.08683308e-02   5.67064165e+02\n",
      "   -4.53865011e-02   2.72030659e-02]] \n",
      "\n",
      "\n",
      "fitted Norm1 = 38671.0464 +- 4501.7645 \n",
      "fitted mu1 = 3.6962 +- 0.2557 \n",
      "fitted sigma1 = 1.7968 +- 0.1824 \n",
      "fitted Norm2 = 11540.7341 +- 4121.4889 \n",
      "fitted mu2 = 7.0904 +- 0.3102 \n",
      "fitted sigma2 = 1.1516 +- 0.1649 \n"
     ]
    },
    {
     "data": {
      "image/png": "[encoded data removed]",
      "text/plain": [
       "<matplotlib.figure.Figure at 0x7f1c179af090>"
      ]
     },
     "metadata": {},
     "output_type": "display_data"
    }
   ],
   "source": [
    "\n",
    "binData20, bins20tmp, patches20 = plt.hist(data,bins=10, ec='black')\n",
    "plt.close()\n",
    "bin_size = abs(bins20tmp[1]-bins20tmp[0])\n",
    "bins20 =np.linspace(start=bins20tmp[0]+bin_size/2.0,stop=bins20tmp[-2]+bin_size/2.0,num=len(bins20tmp)-1,endpoint=True)\n",
    "\n",
    "\n",
    "initial_guess = (2000,4,2,1000,7.5,0.8)\n",
    "upbound       = [50000,6,3,20000,9,2]\n",
    "lowbound      = [500,2,1,300,6,0.1]\n",
    "\n",
    "sigma=np.array([np.sqrt(x) for x in binData20])\n",
    "popt, pcov = optimize.curve_fit(DoubleGaussian,bins20,binData20,sigma=sigma,p0=initial_guess,bounds=[lowbound,upbound],ftol=0.1, xtol=0.1)\n",
    "#popt, pcov = optimize.curve_fit(Gaussian,bins20,binData20,sigma=sigma)\n",
    "\n",
    "                                \n",
    "print 'best fitted parameters (Norm1,mu1,sigma1,Norm2,mu2,sigma2) : ', popt,'\\n'\n",
    "print 'covariance matrix : \\n',pcov,'\\n\\n'\n",
    "\n",
    "#To get parameters uncertainties we take the square root from diagonal elements of the covariance matrix\n",
    "print 'fitted Norm1 = %.4f +- %.4f '%(popt[0],np.sqrt(np.diag(pcov)[0]))\n",
    "print 'fitted mu1 = %.4f +- %.4f '%(popt[1],np.sqrt(np.diag(pcov)[1]))\n",
    "print 'fitted sigma1 = %.4f +- %.4f '%(popt[2],np.sqrt(np.diag(pcov)[2]))\n",
    "print 'fitted Norm2 = %.4f +- %.4f '%(popt[3],np.sqrt(np.diag(pcov)[3]))\n",
    "print 'fitted mu2 = %.4f +- %.4f '%(popt[4],np.sqrt(np.diag(pcov)[4]))\n",
    "print 'fitted sigma2 = %.4f +- %.4f '%(popt[5],np.sqrt(np.diag(pcov)[5]))\n",
    "fitted_Norm = [popt[0],np.sqrt(np.diag(pcov)[0])]\n",
    "fitted_mu = [popt[1],np.sqrt(np.diag(pcov)[1])]\n",
    "fitted_sigma = [popt[2],np.sqrt(np.diag(pcov)[2])]\n",
    "fitted_Norm2 = [popt[3],np.sqrt(np.diag(pcov)[3])]\n",
    "fitted_mu2 = [popt[4],np.sqrt(np.diag(pcov)[4])]\n",
    "fitted_sigma2 = [popt[5],np.sqrt(np.diag(pcov)[5])]\n",
    "\n",
    "\n",
    "plt.errorbar(bins20,binData20,yerr=sigma,fmt='o',ecolor='g',c='g',label=\"data\")\n",
    "plt.plot(bins20,DoubleGaussian(bins20,fitted_Norm[0],fitted_mu[0],fitted_sigma[0], \\\n",
    "                             fitted_Norm2[0],fitted_mu2[0],fitted_sigma2[0], \\\n",
    "                            ),'r',label='Gauss fit')\n",
    "plt.legend()\n",
    "plt.show()"
   ]
  },
  {
   "cell_type": "code",
   "execution_count": 19,
   "metadata": {},
   "outputs": [
    {
     "name": "stdout",
     "output_type": "stream",
     "text": [
      "best fitted parameters (Norm1,mu1,sigma1,Norm2,mu2,sigma2) :  [  8.91623432e+03   3.99598230e+00   1.98738988e+00   1.27668214e+03\n",
      "   7.51645949e+00   8.09006290e-01] \n",
      "\n",
      "covariance matrix : \n",
      "[[  5.90988685e+03   1.28507889e+00   1.14212336e+00  -4.05431261e+03\n",
      "    1.15353045e+00  -1.27402765e+00]\n",
      " [  1.28507889e+00   4.73036671e-04   3.11977261e-04  -1.19563743e+00\n",
      "    3.36992677e-04  -3.71677771e-04]\n",
      " [  1.14212336e+00   3.11977261e-04   3.48337434e-04  -1.00087807e+00\n",
      "    2.36084543e-04  -3.01728555e-04]\n",
      " [ -4.05431261e+03  -1.19563743e+00  -1.00087807e+00   3.89975931e+03\n",
      "   -1.07749253e+00   1.16885503e+00]\n",
      " [  1.15353045e+00   3.36992677e-04   2.36084543e-04  -1.07749253e+00\n",
      "    5.51638909e-04  -3.94126612e-04]\n",
      " [ -1.27402765e+00  -3.71677771e-04  -3.01728555e-04   1.16885503e+00\n",
      "   -3.94126612e-04   5.02799067e-04]] \n",
      "\n",
      "\n",
      "fitted Norm1 = 8916.2343 +- 76.8758 \n",
      "fitted mu1 = 3.9960 +- 0.0217 \n",
      "fitted sigma1 = 1.9874 +- 0.0187 \n",
      "fitted Norm2 = 1276.6821 +- 62.4481 \n",
      "fitted mu2 = 7.5165 +- 0.0235 \n",
      "fitted sigma2 = 0.8090 +- 0.0224 \n"
     ]
    },
    {
     "data": {
      "image/png": "[encoded data removed]",
      "text/plain": [
       "<matplotlib.figure.Figure at 0x7f1c17e4b7d0>"
      ]
     },
     "metadata": {},
     "output_type": "display_data"
    }
   ],
   "source": [
    "\n",
    "binData20, bins20tmp, patches20 = plt.hist(data,bins=50, ec='black')\n",
    "plt.close()\n",
    "bin_size = abs(bins20tmp[1]-bins20tmp[0])\n",
    "bins20 =np.linspace(start=bins20tmp[0]+bin_size/2.0,stop=bins20tmp[-2]+bin_size/2.0,num=len(bins20tmp)-1,endpoint=True)\n",
    "\n",
    "\n",
    "initial_guess = (2000,4,2,1000,7.5,0.8)\n",
    "upbound       = [50000,6,3,20000,9,2]\n",
    "lowbound      = [500,2,1,300,6,0.1]\n",
    "\n",
    "sigma=np.array([np.sqrt(x) for x in binData20])\n",
    "popt, pcov = optimize.curve_fit(DoubleGaussian,bins20,binData20,sigma=sigma,p0=initial_guess,bounds=[lowbound,upbound],ftol=0.1, xtol=0.1)\n",
    "#popt, pcov = optimize.curve_fit(Gaussian,bins20,binData20,sigma=sigma)\n",
    "\n",
    "                                \n",
    "print 'best fitted parameters (Norm1,mu1,sigma1,Norm2,mu2,sigma2) : ', popt,'\\n'\n",
    "print 'covariance matrix : \\n',pcov,'\\n\\n'\n",
    "\n",
    "#To get parameters uncertainties we take the square root from diagonal elements of the covariance matrix\n",
    "print 'fitted Norm1 = %.4f +- %.4f '%(popt[0],np.sqrt(np.diag(pcov)[0]))\n",
    "print 'fitted mu1 = %.4f +- %.4f '%(popt[1],np.sqrt(np.diag(pcov)[1]))\n",
    "print 'fitted sigma1 = %.4f +- %.4f '%(popt[2],np.sqrt(np.diag(pcov)[2]))\n",
    "print 'fitted Norm2 = %.4f +- %.4f '%(popt[3],np.sqrt(np.diag(pcov)[3]))\n",
    "print 'fitted mu2 = %.4f +- %.4f '%(popt[4],np.sqrt(np.diag(pcov)[4]))\n",
    "print 'fitted sigma2 = %.4f +- %.4f '%(popt[5],np.sqrt(np.diag(pcov)[5]))\n",
    "fitted_Norm = [popt[0],np.sqrt(np.diag(pcov)[0])]\n",
    "fitted_mu = [popt[1],np.sqrt(np.diag(pcov)[1])]\n",
    "fitted_sigma = [popt[2],np.sqrt(np.diag(pcov)[2])]\n",
    "fitted_Norm2 = [popt[3],np.sqrt(np.diag(pcov)[3])]\n",
    "fitted_mu2 = [popt[4],np.sqrt(np.diag(pcov)[4])]\n",
    "fitted_sigma2 = [popt[5],np.sqrt(np.diag(pcov)[5])]\n",
    "\n",
    "\n",
    "plt.errorbar(bins20,binData20,yerr=sigma,fmt='o',ecolor='g',c='g', label=\"data\")\n",
    "plt.plot(bins20,DoubleGaussian(bins20,fitted_Norm[0],fitted_mu[0],fitted_sigma[0], \\\n",
    "                             fitted_Norm2[0],fitted_mu2[0],fitted_sigma2[0], \\\n",
    "                            ),'r',label='Gauss fit')\n",
    "plt.legend()\n",
    "plt.show()"
   ]
  },
  {
   "cell_type": "code",
   "execution_count": null,
   "metadata": {
    "collapsed": true
   },
   "outputs": [],
   "source": []
  },
  {
   "cell_type": "code",
   "execution_count": null,
   "metadata": {
    "collapsed": true
   },
   "outputs": [],
   "source": []
  }
 ],
 "metadata": {
  "kernelspec": {
   "display_name": "Python 2",
   "language": "python",
   "name": "python2"
  },
  "language_info": {
   "codemirror_mode": {
    "name": "ipython",
    "version": 2
   },
   "file_extension": ".py",
   "mimetype": "text/x-python",
   "name": "python",
   "nbconvert_exporter": "python",
   "pygments_lexer": "ipython2",
   "version": "2.7.15"
  }
 },
 "nbformat": 4,
 "nbformat_minor": 2
}
